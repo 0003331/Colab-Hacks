{
 "cells": [
  {
   "cell_type": "markdown",
   "metadata": {
    "colab_type": "text",
    "id": "aQuWDmfm9YOi"
   },
   "source": [
    "# Torrent To Google Drive Downloader v2"
   ]
  },
  {
   "cell_type": "markdown",
   "metadata": {
    "colab_type": "text",
    "id": "Uf90U73y9YOj"
   },
   "source": [
    "### Mount Google Drive\n",
    "To stream files we need to mount Google Drive."
   ]
  },
  {
   "cell_type": "code",
   "execution_count": null,
   "metadata": {
    "colab": {
     "base_uri": "https://localhost:8080/",
     "height": 122
    },
    "colab_type": "code",
    "executionInfo": {
     "elapsed": 29445,
     "status": "ok",
     "timestamp": 1596122362309,
     "user": {
      "displayName": "Pradyumna Krishna",
      "photoUrl": "https://lh3.googleusercontent.com/a-/AOh14GhiYs7dfE7aqprMRsjp-XjLkStXrrosbbDOPAr47Q=s64",
      "userId": "15086891861064525446"
     },
     "user_tz": -330
    },
    "id": "oWM9l2fvtuvO",
    "outputId": "ba4dab9d-b4d4-40e8-b08e-a9e61f0c9895"
   },
   "outputs": [],
   "source": [
    "from google.colab import drive\n",
    "drive.mount('/content/drive')"
   ]
  },
  {
   "cell_type": "markdown",
   "metadata": {
    "colab_type": "text",
    "id": "FexiyATtNwTG"
   },
   "source": [
    "## [Dependency](https://www.libtorrent.org/)"
   ]
  },
  {
   "cell_type": "code",
   "execution_count": null,
   "metadata": {
    "colab": {
     "base_uri": "https://localhost:8080/",
     "height": 527
    },
    "colab_type": "code",
    "executionInfo": {
     "elapsed": 13140,
     "status": "ok",
     "timestamp": 1596122377972,
     "user": {
      "displayName": "Pradyumna Krishna",
      "photoUrl": "https://lh3.googleusercontent.com/a-/AOh14GhiYs7dfE7aqprMRsjp-XjLkStXrrosbbDOPAr47Q=s64",
      "userId": "15086891861064525446"
     },
     "user_tz": -330
    },
    "id": "m6hF0emftx4h",
    "outputId": "e34edd09-a693-45ea-aa15-ffdfbf5ca70f"
   },
   "outputs": [],
   "source": [
    "!apt install python3-libtorrent"
   ]
  },
  {
   "cell_type": "markdown",
   "metadata": {
    "colab_type": "text",
    "id": "tqKcWHZcYRIA"
   },
   "source": [
    "### Code to download torrent\n",
    "Variable **link** stores the link string."
   ]
  },
  {
   "cell_type": "code",
   "execution_count": null,
   "metadata": {
    "colab": {
     "base_uri": "https://localhost:8080/",
     "height": 1000
    },
    "colab_type": "code",
    "id": "b09BxnANO2ep",
    "outputId": "74db5d72-13b4-4461-c3cc-f524abaa4fee"
   },
   "outputs": [],
   "source": [
    "import libtorrent as lt\n",
    "import time\n",
    "import datetime\n",
    "\n",
    "ses = lt.session()\n",
    "ses.listen_on(6881, 6891)\n",
    "params = {\n",
    "    'save_path': '/content/drive/My Drive/Torrent/',\n",
    "    'storage_mode': lt.storage_mode_t(2),\n",
    "    'paused': False,\n",
    "    'auto_managed': True,\n",
    "    'duplicate_is_error': True}\n",
    "link = \"<Your Magnet/Torrent Link>\" # PASTE TORRENT/MAGNET LINK HERE\n",
    "print(link)\n",
    "\n",
    "handle = lt.add_magnet_uri(ses, link, params)\n",
    "ses.start_dht()\n",
    "\n",
    "begin = time.time()\n",
    "print(datetime.datetime.now())\n",
    "\n",
    "print ('Downloading Metadata...')\n",
    "while (not handle.has_metadata()):\n",
    "    time.sleep(1)\n",
    "print ('Got Metadata, Starting Torrent Download...')\n",
    "\n",
    "print(\"Starting\", handle.name())\n",
    "\n",
    "while (handle.status().state != lt.torrent_status.seeding):\n",
    "    s = handle.status()\n",
    "    state_str = ['queued', 'checking', 'downloading metadata', \\\n",
    "            'downloading', 'finished', 'seeding', 'allocating']\n",
    "    print ('%.2f%% complete (down: %.1f kb/s up: %.1f kB/s peers: %d) %s ' % \\\n",
    "            (s.progress * 100, s.download_rate / 1000, s.upload_rate / 1000, \\\n",
    "            s.num_peers, state_str[s.state]))\n",
    "    time.sleep(5)\n",
    "\n",
    "end = time.time()\n",
    "print(handle.name(), \"COMPLETE\")\n",
    "\n",
    "print(\"Elapsed Time: \",int((end-begin)//60),\"min :\", int((end-begin)%60), \"sec\")\n",
    "\n",
    "print(datetime.datetime.now())"
   ]
  }
 ],
 "metadata": {
  "colab": {
   "collapsed_sections": [],
   "name": "Torrent To Google Drive Downloader v2",
   "provenance": [
    {
     "file_id": "https://github.com/spireon-ex10/Torrent-To-Google-Drive-Downloader/blob/master/Torrent_To_Google_Drive_Downloader_v2.ipynb",
     "timestamp": 1595870549576
    }
   ],
   "toc_visible": true
  },
  "kernelspec": {
   "display_name": "Python 3",
   "language": "python",
   "name": "python3"
  },
  "language_info": {
   "codemirror_mode": {
    "name": "ipython",
    "version": 3
   },
   "file_extension": ".py",
   "mimetype": "text/x-python",
   "name": "python",
   "nbconvert_exporter": "python",
   "pygments_lexer": "ipython3",
   "version": "3.7.4"
  }
 },
 "nbformat": 4,
 "nbformat_minor": 1
}
