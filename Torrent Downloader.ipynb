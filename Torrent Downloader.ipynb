{
 "cells": [
  {
   "cell_type": "markdown",
   "metadata": {
    "colab_type": "text",
    "id": "aQuWDmfm9YOi"
   },
   "source": [
    "# Torrent Downloader\n",
    "Download & Store Files in Google Drive\n",
    "\n",
    "> **Note :** You can download any file and store it at google drive using command `wget <link>` and move it to the `/content/drive/My\\ Drive/` location \n",
    "<br> **Warning :** This notebook is against the Policy of Colab. Use it on your own risk\n"
   ]
  },
  {
   "cell_type": "markdown",
   "metadata": {
    "colab_type": "text",
    "id": "Uf90U73y9YOj"
   },
   "source": [
    "## Google Drive\n",
    "\n",
    "For Stream files into Drive"
   ]
  },
  {
   "cell_type": "code",
   "execution_count": null,
   "metadata": {
    "colab": {
     "base_uri": "https://localhost:8080/",
     "height": 122
    },
    "colab_type": "code",
    "executionInfo": {
     "elapsed": 25772,
     "status": "ok",
     "timestamp": 1596160238537,
     "user": {
      "displayName": "Pradyumna Krishna",
      "photoUrl": "https://lh3.googleusercontent.com/a-/AOh14GhiYs7dfE7aqprMRsjp-XjLkStXrrosbbDOPAr47Q=s64",
      "userId": "15086891861064525446"
     },
     "user_tz": -330
    },
    "id": "oWM9l2fvtuvO",
    "outputId": "5dc79ce0-7d7f-4321-86c7-0c2376447afe"
   },
   "outputs": [],
   "source": [
    "from google.colab import drive\n",
    "drive.mount('/content/drive')"
   ]
  },
  {
   "cell_type": "markdown",
   "metadata": {
    "colab_type": "text",
    "id": "FexiyATtNwTG"
   },
   "source": [
    "## [Dependency](https://www.libtorrent.org/)"
   ]
  },
  {
   "cell_type": "code",
   "execution_count": null,
   "metadata": {
    "colab": {
     "base_uri": "https://localhost:8080/",
     "height": 527
    },
    "colab_type": "code",
    "executionInfo": {
     "elapsed": 15390,
     "status": "ok",
     "timestamp": 1596160269383,
     "user": {
      "displayName": "Pradyumna Krishna",
      "photoUrl": "https://lh3.googleusercontent.com/a-/AOh14GhiYs7dfE7aqprMRsjp-XjLkStXrrosbbDOPAr47Q=s64",
      "userId": "15086891861064525446"
     },
     "user_tz": -330
    },
    "id": "m6hF0emftx4h",
    "outputId": "0e571087-6115-4eb8-ddd1-4115e81367b7"
   },
   "outputs": [],
   "source": [
    "!apt install python3-libtorrent\n",
    "\n",
    "import libtorrent as lt\n",
    "\n",
    "ses = lt.session()\n",
    "ses.listen_on(6881, 6891)\n",
    "downloads = []"
   ]
  },
  {
   "cell_type": "markdown",
   "metadata": {
    "colab_type": "text",
    "id": "yvRYoOe0ca46"
   },
   "source": [
    "## Add Torrent"
   ]
  },
  {
   "cell_type": "markdown",
   "metadata": {
    "colab_type": "text",
    "id": "_jTus89phBvS"
   },
   "source": [
    "**Using File**"
   ]
  },
  {
   "cell_type": "code",
   "execution_count": null,
   "metadata": {
    "colab": {},
    "colab_type": "code",
    "id": "nVAeadTBca47"
   },
   "outputs": [],
   "source": [
    "from google.colab import files\n",
    "\n",
    "source = files.upload()\n",
    "params = {\n",
    "    \"save_path\": \"/content/drive/My Drive/Torrent\",\n",
    "    \"ti\": lt.torrent_info(list(source.keys())[0]),\n",
    "}\n",
    "downloads.append(ses.add_torrent(params))"
   ]
  },
  {
   "cell_type": "markdown",
   "metadata": {
    "colab_type": "text",
    "id": "covtJz6HhIv-"
   },
   "source": [
    "**Using Magnet Link**"
   ]
  },
  {
   "cell_type": "code",
   "execution_count": null,
   "metadata": {
    "colab": {
     "base_uri": "https://localhost:8080/",
     "height": 71
    },
    "colab_type": "code",
    "executionInfo": {
     "elapsed": 5958,
     "status": "ok",
     "timestamp": 1596161031204,
     "user": {
      "displayName": "Pradyumna Krishna",
      "photoUrl": "https://lh3.googleusercontent.com/a-/AOh14GhiYs7dfE7aqprMRsjp-XjLkStXrrosbbDOPAr47Q=s64",
      "userId": "15086891861064525446"
     },
     "user_tz": -330
    },
    "id": "F1brVaj3ca4-",
    "outputId": "c729329e-dd82-4f78-9a1f-fb09ead092df"
   },
   "outputs": [],
   "source": [
    "params = {\"save_path\": \"/content/drive/My Drive/Torrent\"}\n",
    "\n",
    "while True:\n",
    "    magnet_link = input(\"Enter Magnet Link Or Type Exit: \")\n",
    "    if magnet_link.lower() == \"exit\":\n",
    "        break\n",
    "    downloads.append(\n",
    "        lt.add_magnet_uri(ses, magnet_link, params)\n",
    "    )\n"
   ]
  },
  {
   "cell_type": "markdown",
   "metadata": {
    "colab_type": "text",
    "id": "tqKcWHZcYRIA"
   },
   "source": [
    "### Code to download torrent\n",
    "Variable **link** stores the link string."
   ]
  },
  {
   "cell_type": "code",
   "execution_count": null,
   "metadata": {
    "colab": {
     "base_uri": "https://localhost:8080/",
     "height": 260,
     "referenced_widgets": [
      "d65691fc33e5460491ec9ad5587bd37a",
      "541fe85508b14731937e7008817fe597",
      "1fa772537e86413199d8aa589356e82f",
      "baebbcc691d34d17bc10ddca74f186f1",
      "21b73552ddcf4ac4b0a04ee0c35e326f"
     ]
    },
    "colab_type": "code",
    "executionInfo": {
     "elapsed": 280624,
     "status": "error",
     "timestamp": 1596161320416,
     "user": {
      "displayName": "Pradyumna Krishna",
      "photoUrl": "https://lh3.googleusercontent.com/a-/AOh14GhiYs7dfE7aqprMRsjp-XjLkStXrrosbbDOPAr47Q=s64",
      "userId": "15086891861064525446"
     },
     "user_tz": -330
    },
    "id": "b09BxnANO2ep",
    "outputId": "c606ceba-2cc0-417b-afbd-ca708a301077"
   },
   "outputs": [],
   "source": [
    "import time\n",
    "from IPython.display import display\n",
    "import ipywidgets as widgets\n",
    "\n",
    "state_str = [\n",
    "    \"queued\",\n",
    "    \"checking\",\n",
    "    \"downloading metadata\",\n",
    "    \"downloading\",\n",
    "    \"finished\",\n",
    "    \"seeding\",\n",
    "    \"allocating\",\n",
    "    \"checking fastresume\",\n",
    "]\n",
    "\n",
    "layout = widgets.Layout(width=\"auto\")\n",
    "style = {\"description_width\": \"initial\"}\n",
    "download_bars = [\n",
    "    widgets.FloatSlider(\n",
    "        step=0.01, disabled=True, layout=layout, style=style\n",
    "    )\n",
    "    for _ in downloads\n",
    "]\n",
    "display(*download_bars)\n",
    "\n",
    "while downloads:\n",
    "    next_shift = 0\n",
    "    for index, download in enumerate(downloads[:]):\n",
    "        bar = download_bars[index + next_shift]\n",
    "        if not download.is_seed():\n",
    "            s = download.status()\n",
    "\n",
    "            bar.description = \" \".join(\n",
    "                [\n",
    "                    download.name()[:25] +\n",
    "                    \"...\\t|\\t\",\n",
    "                    str(s.download_rate / 1000),\n",
    "                    \"kB/s \\t |\\t\",\n",
    "                    str(s.upload_rate / 1000),\n",
    "                    \"kB/s \\t|\\t\",\n",
    "                    state_str[s.state],\n",
    "                ]\n",
    "            )\n",
    "            bar.value = s.progress * 100\n",
    "        else:\n",
    "            next_shift -= 1\n",
    "            ses.remove_torrent(download)\n",
    "            downloads.remove(download)\n",
    "            bar.close() # Seems to be not working in Colab\n",
    "            download_bars.remove(bar)\n",
    "            print(download.name(), \"complete\")\n",
    "    time.sleep(1)"
   ]
  }
 ],
 "metadata": {
  "colab": {
   "collapsed_sections": [],
   "name": "Torrent Downloader.ipynb",
   "provenance": [
    {
     "file_id": "https://github.com/spireon-ex10/Torrent-To-Google-Drive-Downloader/blob/master/Torrent_To_Google_Drive_Downloader_v2.ipynb",
     "timestamp": 1595870549576
    }
   ],
   "toc_visible": true
  },
  "kernelspec": {
   "display_name": "Python 3",
   "language": "python",
   "name": "python3"
  },
  "language_info": {
   "codemirror_mode": {
    "name": "ipython",
    "version": 3
   },
   "file_extension": ".py",
   "mimetype": "text/x-python",
   "name": "python",
   "nbconvert_exporter": "python",
   "pygments_lexer": "ipython3",
   "version": "3.7.4"
  },
  "widgets": {
   "application/vnd.jupyter.widget-state+json": {
    "1fa772537e86413199d8aa589356e82f": {
     "model_module": "@jupyter-widgets/base",
     "model_name": "LayoutModel",
     "state": {
      "_model_module": "@jupyter-widgets/base",
      "_model_module_version": "1.2.0",
      "_model_name": "LayoutModel",
      "_view_count": null,
      "_view_module": "@jupyter-widgets/base",
      "_view_module_version": "1.2.0",
      "_view_name": "LayoutView",
      "align_content": null,
      "align_items": null,
      "align_self": null,
      "border": null,
      "bottom": null,
      "display": null,
      "flex": null,
      "flex_flow": null,
      "grid_area": null,
      "grid_auto_columns": null,
      "grid_auto_flow": null,
      "grid_auto_rows": null,
      "grid_column": null,
      "grid_gap": null,
      "grid_row": null,
      "grid_template_areas": null,
      "grid_template_columns": null,
      "grid_template_rows": null,
      "height": null,
      "justify_content": null,
      "justify_items": null,
      "left": null,
      "margin": null,
      "max_height": null,
      "max_width": null,
      "min_height": null,
      "min_width": null,
      "object_fit": null,
      "object_position": null,
      "order": null,
      "overflow": null,
      "overflow_x": null,
      "overflow_y": null,
      "padding": null,
      "right": null,
      "top": null,
      "visibility": null,
      "width": "auto"
     }
    },
    "21b73552ddcf4ac4b0a04ee0c35e326f": {
     "model_module": "@jupyter-widgets/controls",
     "model_name": "SliderStyleModel",
     "state": {
      "_model_module": "@jupyter-widgets/controls",
      "_model_module_version": "1.5.0",
      "_model_name": "SliderStyleModel",
      "_view_count": null,
      "_view_module": "@jupyter-widgets/base",
      "_view_module_version": "1.2.0",
      "_view_name": "StyleView",
      "description_width": "initial",
      "handle_color": null
     }
    },
    "541fe85508b14731937e7008817fe597": {
     "model_module": "@jupyter-widgets/controls",
     "model_name": "SliderStyleModel",
     "state": {
      "_model_module": "@jupyter-widgets/controls",
      "_model_module_version": "1.5.0",
      "_model_name": "SliderStyleModel",
      "_view_count": null,
      "_view_module": "@jupyter-widgets/base",
      "_view_module_version": "1.2.0",
      "_view_name": "StyleView",
      "description_width": "initial",
      "handle_color": null
     }
    },
    "baebbcc691d34d17bc10ddca74f186f1": {
     "model_module": "@jupyter-widgets/controls",
     "model_name": "FloatSliderModel",
     "state": {
      "_dom_classes": [],
      "_model_module": "@jupyter-widgets/controls",
      "_model_module_version": "1.5.0",
      "_model_name": "FloatSliderModel",
      "_view_count": null,
      "_view_module": "@jupyter-widgets/controls",
      "_view_module_version": "1.5.0",
      "_view_name": "FloatSliderView",
      "continuous_update": true,
      "description": "War.2019.4K.UHD.HEVC.AMZN...\t|\t 0.0 kB/s \t |\t 0.0 kB/s \t|\t checking",
      "description_tooltip": null,
      "disabled": true,
      "layout": "IPY_MODEL_1fa772537e86413199d8aa589356e82f",
      "max": 100,
      "min": 0,
      "orientation": "horizontal",
      "readout": true,
      "readout_format": ".2f",
      "step": 0.01,
      "style": "IPY_MODEL_21b73552ddcf4ac4b0a04ee0c35e326f",
      "value": 0
     }
    },
    "d65691fc33e5460491ec9ad5587bd37a": {
     "model_module": "@jupyter-widgets/controls",
     "model_name": "FloatSliderModel",
     "state": {
      "_dom_classes": [],
      "_model_module": "@jupyter-widgets/controls",
      "_model_module_version": "1.5.0",
      "_model_name": "FloatSliderModel",
      "_view_count": null,
      "_view_module": "@jupyter-widgets/controls",
      "_view_module_version": "1.5.0",
      "_view_name": "FloatSliderView",
      "continuous_update": true,
      "description": "Sye.Raa.Narasimha.Reddy(H...\t|\t 0.0 kB/s \t |\t 0.0 kB/s \t|\t downloading",
      "description_tooltip": null,
      "disabled": true,
      "layout": "IPY_MODEL_1fa772537e86413199d8aa589356e82f",
      "max": 100,
      "min": 0,
      "orientation": "horizontal",
      "readout": true,
      "readout_format": ".2f",
      "step": 0.01,
      "style": "IPY_MODEL_541fe85508b14731937e7008817fe597",
      "value": 18.01079958677292
     }
    }
   }
  }
 },
 "nbformat": 4,
 "nbformat_minor": 1
}
